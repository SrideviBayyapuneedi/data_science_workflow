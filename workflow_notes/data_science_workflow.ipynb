{
 "cells": [
  {
   "cell_type": "markdown",
   "metadata": {
    "toc": true
   },
   "source": [
    "<h1>Table of Contents<span class=\"tocSkip\"></span></h1>\n",
    "<div class=\"toc\"><ul class=\"toc-item\"><li><span><a href=\"#Frame-the-Problem\" data-toc-modified-id=\"Frame-the-Problem-1\"><span class=\"toc-item-num\">1&nbsp;&nbsp;</span>Frame the Problem</a></span></li><li><span><a href=\"#Select-a-performance-measure\" data-toc-modified-id=\"Select-a-performance-measure-2\"><span class=\"toc-item-num\">2&nbsp;&nbsp;</span>Select a performance measure</a></span><ul class=\"toc-item\"><li><span><a href=\"#Regression-problems\" data-toc-modified-id=\"Regression-problems-2.1\"><span class=\"toc-item-num\">2.1&nbsp;&nbsp;</span>Regression problems</a></span></li></ul></li><li><span><a href=\"#Check-Assumptions\" data-toc-modified-id=\"Check-Assumptions-3\"><span class=\"toc-item-num\">3&nbsp;&nbsp;</span>Check Assumptions</a></span></li><li><span><a href=\"#Create-the-workspace-and-an-isolated-environment\" data-toc-modified-id=\"Create-the-workspace-and-an-isolated-environment-4\"><span class=\"toc-item-num\">4&nbsp;&nbsp;</span>Create the workspace and an isolated environment</a></span></li><li><span><a href=\"#Download-the-data:\" data-toc-modified-id=\"Download-the-data:-5\"><span class=\"toc-item-num\">5&nbsp;&nbsp;</span>Download the data:</a></span></li><li><span><a href=\"#Take-a-Quick-look-at-the-data-structure\" data-toc-modified-id=\"Take-a-Quick-look-at-the-data-structure-6\"><span class=\"toc-item-num\">6&nbsp;&nbsp;</span>Take a Quick look at the data structure</a></span></li><li><span><a href=\"#Create-a-test-set-and-training-set\" data-toc-modified-id=\"Create-a-test-set-and-training-set-7\"><span class=\"toc-item-num\">7&nbsp;&nbsp;</span>Create a test set and training set</a></span></li></ul></div>"
   ]
  },
  {
   "cell_type": "markdown",
   "metadata": {
    "heading_collapsed": true
   },
   "source": [
    "# Look at the Big Picture"
   ]
  },
  {
   "cell_type": "markdown",
   "metadata": {
    "heading_collapsed": true,
    "hidden": true
   },
   "source": [
    "## Frame the Problem\n",
    "    a. Understand the business objective\n",
    "        What is the business objective? How does the company expect to use this model and benefit from this model?\n",
    "    b. Frame the problem into\n",
    "        i. Supervised Learning\n",
    "        ii. Unsupervised Learing\n",
    "        iii. Reinforcement Learning\n",
    "        iv. Batch learning or Online Learning\n",
    "        v. Instance based learning or model based learning\n",
    "    c. Is there a current model and how does it perform?\n",
    "    d. What is the process right now and why are we building the model only now?"
   ]
  },
  {
   "cell_type": "markdown",
   "metadata": {
    "hidden": true
   },
   "source": [
    "## Select a performance measure\n",
    "### Regression problems\n",
    "    a. RMSE\n",
    "    b. MAE"
   ]
  },
  {
   "cell_type": "markdown",
   "metadata": {
    "hidden": true
   },
   "source": [
    "## Check Assumptions"
   ]
  },
  {
   "cell_type": "markdown",
   "metadata": {
    "heading_collapsed": true
   },
   "source": [
    "# Get the Data"
   ]
  },
  {
   "cell_type": "markdown",
   "metadata": {
    "heading_collapsed": true,
    "hidden": true
   },
   "source": [
    "## Create the workspace and an isolated environment"
   ]
  },
  {
   "cell_type": "markdown",
   "metadata": {
    "heading_collapsed": true,
    "hidden": true
   },
   "source": [
    "## Download the data: \n",
    "1. Automate downloading the data, write a function\n",
    "2. If necessary write a function to read the data and set dtype of the columns"
   ]
  },
  {
   "cell_type": "markdown",
   "metadata": {
    "heading_collapsed": true,
    "hidden": true
   },
   "source": [
    "## Take a Quick look at the data structure\n",
    "Use the following commands\n",
    "1. df.head()\n",
    "2. df.info() to know the number of rows, columns and non-null values and datatypes of each column\n",
    "3. If you observe that there are categorical data columns, investigate to find the distribution of different categories\n",
    "4. For numerical columns, use the df.describe() to understand the centrality and deviation\n",
    "5. Plot a histogram of the numerical columns using df.hist(figsize=(20,15))"
   ]
  },
  {
   "cell_type": "markdown",
   "metadata": {
    "hidden": true
   },
   "source": [
    "## Create a test set and training set\n",
    "Create a test set and keep it aside and never look at it, to avoid data snooping error.\n",
    "1. If the dataset is fixed then you can use a non-hashing technique to split the test and train datasets\n",
    "2. If there is a chance that the dataset can be updated/refreshed from time to time then use a hashing based test and train set.\n",
    "3. The test set/validation set is usually 20% of all the training data\n",
    "\n",
    "Shuffling is of two types, random shuffling and stratified shuffling split\n"
   ]
  },
  {
   "cell_type": "markdown",
   "metadata": {},
   "source": [
    "# Visualize the data using the training set"
   ]
  },
  {
   "cell_type": "markdown",
   "metadata": {},
   "source": [
    "# Prepare Data for ML Algorithm"
   ]
  },
  {
   "cell_type": "code",
   "execution_count": null,
   "metadata": {},
   "outputs": [],
   "source": []
  },
  {
   "cell_type": "code",
   "execution_count": null,
   "metadata": {},
   "outputs": [],
   "source": []
  }
 ],
 "metadata": {
  "kernelspec": {
   "display_name": "Python 3",
   "language": "python",
   "name": "python3"
  },
  "language_info": {
   "codemirror_mode": {
    "name": "ipython",
    "version": 3
   },
   "file_extension": ".py",
   "mimetype": "text/x-python",
   "name": "python",
   "nbconvert_exporter": "python",
   "pygments_lexer": "ipython3",
   "version": "3.6.5"
  },
  "toc": {
   "base_numbering": 1,
   "nav_menu": {},
   "number_sections": true,
   "sideBar": true,
   "skip_h1_title": true,
   "title_cell": "Table of Contents",
   "title_sidebar": "Contents",
   "toc_cell": true,
   "toc_position": {
    "height": "calc(100% - 180px)",
    "left": "10px",
    "top": "150px",
    "width": "288px"
   },
   "toc_section_display": true,
   "toc_window_display": true
  }
 },
 "nbformat": 4,
 "nbformat_minor": 2
}
